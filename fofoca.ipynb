{
 "cells": [
  {
   "cell_type": "code",
   "execution_count": null,
   "metadata": {},
   "outputs": [],
   "source": [
    "from datetime import date, timedelta, datetime\n",
    "from requests import request\n",
    "from urllib.parse import quote\n",
    "from bs4 import BeautifulSoup\n",
    "from tqdm.notebook import tqdm\n",
    "from concurrent.futures import ThreadPoolExecutor, as_completed\n",
    "import pandas as pd"
   ]
  },
  {
   "cell_type": "code",
   "execution_count": null,
   "metadata": {},
   "outputs": [],
   "source": [
    "def text2date(q):\n",
    "    if \"segundo\" in q:\n",
    "        return (date.today().isoformat())\n",
    "    elif \"minuto\" in q:\n",
    "        return (date.today().isoformat())\n",
    "    elif \"hora\" in q:\n",
    "        return (date.today().isoformat())\n",
    "    elif \"hoje\" in q:\n",
    "        return (date.today().isoformat())\n",
    "    elif \"Ontem\" in q:\n",
    "        return (date.today()-timedelta(days=1)).isoformat()\n",
    "    elif \"dia\" in q:\n",
    "        return (date.today()-timedelta(days=int(q[:2]))).isoformat()\n",
    "    elif \"de\" in q:\n",
    "        q=q.replace(\"abr\",\"apr\").replace(\"mai\",\"may\").replace(\"ago\",\"aug\").replace(\"set\",\"sep\").replace(\"out\",\"oct\").replace(\"dez\",\"dec\")\n",
    "        q=q+str(date.today().year)\n",
    "        return datetime.strptime(q,\"%d de %b.%Y\").date().isoformat()\n",
    "    else:\n",
    "        return q"
   ]
  },
  {
   "cell_type": "code",
   "execution_count": null,
   "metadata": {},
   "outputs": [],
   "source": [
    "def getNews(termo: str, limite=10, dias=30) -> list:\n",
    "    requestHeader = { \"user-agente\":\"Mozilla/5.0 (Windows NT 10.0; Win64; x64)\"}\n",
    "    url = \"https://news.google.com/search?q=\"+quote(termo)+\"%20when%3A\"+str(dias)+\"d&hl=pt-BR&gl=BR&ceid=BR%3Apt-419\"\n",
    "    r = request('get',url=url, headers=requestHeader)\n",
    "    dados =[]\n",
    "    if(r.status_code==200):\n",
    "        soup = BeautifulSoup(r.content, 'html.parser')\n",
    "        artigos = soup.find_all('article')\n",
    "        for count,artigo in enumerate(artigos):\n",
    "            if(count>=limite):\n",
    "                break\n",
    "            try:\n",
    "                noticia = artigo.h3.text\n",
    "                origem = artigo.div.a.text\n",
    "                quando = text2date(artigo.div.time.text)\n",
    "                link=\"https://news.google.com\"+artigo.a['href'][1:]\n",
    "                try:\n",
    "                    r = request('get',url=link, headers=requestHeader)\n",
    "                    if(r.status_code==200):\n",
    "                        link=r.url\n",
    "                except:\n",
    "                    pass\n",
    "                dados.append([termo,noticia,origem,quando,link])\n",
    "            except:\n",
    "                pass\n",
    "    if len(dados) == 0:\n",
    "        dados.append([termo,'* NÃO ENCONTRADA OCORRÊNCIA'])\n",
    "    return dados"
   ]
  },
  {
   "cell_type": "code",
   "execution_count": null,
   "metadata": {},
   "outputs": [],
   "source": [
    "def fastgnews(termos=[]) -> pd.DataFrame:\n",
    "    with tqdm(total=len(termos),desc=\"Pesquisas\") as pbar:  \n",
    "        with ThreadPoolExecutor(max_workers=8) as executor:\n",
    "            futures = [executor.submit(getNews, arg) for arg in termos]\n",
    "            news=[]\n",
    "            for future in as_completed(futures):\n",
    "                news.extend(future.result())\n",
    "                pbar.update(1)  \n",
    "    df = pd.DataFrame(news,columns=[\"termo\",\"noticia\",\"origem\",\"quando\",\"link\"])\n",
    "    return df"
   ]
  },
  {
   "cell_type": "markdown",
   "metadata": {},
   "source": [
    "Aqui começa a utilização\n"
   ]
  },
  {
   "cell_type": "code",
   "execution_count": null,
   "metadata": {},
   "outputs": [],
   "source": [
    "sufix = [\"acusado\", \"investigado\",\"denunciado\"]\n",
    "termos = [\"lula\",\"bolsonaro\"]\n",
    "pesquisa = [ t+\" , \"+s for t in termos for s in sufix ]"
   ]
  },
  {
   "cell_type": "code",
   "execution_count": null,
   "metadata": {},
   "outputs": [],
   "source": [
    "%%time\n",
    "df=fastgnews(pesquisa)\n",
    "df.sample(5)"
   ]
  },
  {
   "cell_type": "code",
   "execution_count": null,
   "metadata": {},
   "outputs": [],
   "source": [
    "len(df)\n",
    "#df.to_csv(\"saida_pesquisa.csv\",sep=\";\")"
   ]
  }
 ],
 "metadata": {
  "kernelspec": {
   "display_name": "Python 3.10.4 64-bit",
   "language": "python",
   "name": "python3"
  },
  "language_info": {
   "name": "python",
   "version": "3.10.4"
  },
  "orig_nbformat": 4,
  "vscode": {
   "interpreter": {
    "hash": "3ad933181bd8a04b432d3370b9dc3b0662ad032c4dfaa4e4f1596c548f763858"
   }
  }
 },
 "nbformat": 4,
 "nbformat_minor": 2
}
