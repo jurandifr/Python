{
  "nbformat": 4,
  "nbformat_minor": 0,
  "metadata": {
    "colab": {
      "provenance": [],
      "authorship_tag": "ABX9TyO6jCgv/rmEE/+oCjEfzfpw",
      "include_colab_link": true
    },
    "kernelspec": {
      "name": "python3",
      "display_name": "Python 3"
    },
    "language_info": {
      "name": "python"
    }
  },
  "cells": [
    {
      "cell_type": "markdown",
      "metadata": {
        "id": "view-in-github",
        "colab_type": "text"
      },
      "source": [
        "<a href=\"https://colab.research.google.com/github/jurandifr/Python/blob/main/Mask.ipynb\" target=\"_parent\"><img src=\"https://colab.research.google.com/assets/colab-badge.svg\" alt=\"Open In Colab\"/></a>"
      ]
    },
    {
      "cell_type": "markdown",
      "source": [
        "Mask"
      ],
      "metadata": {
        "id": "2jsEOT5Ct4W7"
      }
    },
    {
      "cell_type": "code",
      "source": [
        "# Mascara uma string com senha e retorna em bytes\n",
        "def mask(txt,p=\"password\",flag=True):\n",
        "    r=[]\n",
        "    s=len(p)\n",
        "    f=1 if flag else -1\n",
        "    try:\n",
        "        for i in txt:\n",
        "            r.append(chr(ord(i)+f*ord(p[len(r) % s])))\n",
        "        return \"\".join(r)\n",
        "    except: return None\n",
        "\n",
        "# Versao apenas desmascara\n",
        "from getpass import getpass\n",
        "def umask(txt):\n",
        "  r=[]\n",
        "  p=getpass(\"Password: \")\n",
        "  for i in txt:\n",
        "      r.append(chr(ord(i)-ord(p[len(r) % len(p)])))\n",
        "  return \"\".join(r)\n",
        "\n",
        "# Mascara uma string com senha e retorna em u64\n",
        "from binascii import a2b_base64,b2a_base64\n",
        "def mask64(txt,p=\"password\",flag=True):\n",
        "    r=[]\n",
        "    s=len(p)\n",
        "    f=1 if flag else -1\n",
        "    if not flag:\n",
        "      txt=a2b_base64(txt).decode()\n",
        "    try:\n",
        "        for i in txt:\n",
        "            r.append(chr(ord(i)+f*ord(p[len(r) % s])))\n",
        "        r=\"\".join(r)\n",
        "        return (b2a_base64(r.encode()).decode()).strip() if flag else r\n",
        "    except: return None\n",
        "\n",
        "# Versao apenas desmascara\n",
        "from getpass import getpass\n",
        "from binascii import a2b_base64\n",
        "def umask64(txt):\n",
        "  r=[]\n",
        "  p=getpass(\"Password: \")\n",
        "  for i in a2b_base64(txt).decode():\n",
        "      r.append(chr(ord(i)-ord(p[len(r) % len(p)])))\n",
        "  return \"\".join(r)\n"
      ],
      "metadata": {
        "id": "KYruceFec6TS"
      },
      "execution_count": null,
      "outputs": []
    },
    {
      "cell_type": "code",
      "source": [
        "mask64(\"senha dificil de lembrar\",\"jurandi\")"
      ],
      "metadata": {
        "colab": {
          "base_uri": "https://localhost:8080/",
          "height": 35
        },
        "id": "cQt8sluy72Ow",
        "outputId": "1cf19d8a-5a8f-46d4-d573-d7b01ec5d4a8"
      },
      "execution_count": null,
      "outputs": [
        {
          "output_type": "execute_result",
          "data": {
            "text/plain": [
              "'w53DmsOgw4nDj8KEw43Dk8Obw5vDhMOXw5DCicOOw5rCksONw5PDkcOLw5zDlsOk'"
            ],
            "application/vnd.google.colaboratory.intrinsic+json": {
              "type": "string"
            }
          },
          "metadata": {},
          "execution_count": 50
        }
      ]
    },
    {
      "cell_type": "code",
      "source": [
        "mask64('w53DmsOgw4nDj8KEw43Dk8Obw5vDhMOXw5DCicOOw5rCksONw5PDkcOLw5zDlsOk',\"jurandi\",0)"
      ],
      "metadata": {
        "colab": {
          "base_uri": "https://localhost:8080/",
          "height": 35
        },
        "id": "SrVJ7VCX8s6K",
        "outputId": "abf91485-2c3a-4703-b7a7-392ad6b77d40"
      },
      "execution_count": null,
      "outputs": [
        {
          "output_type": "execute_result",
          "data": {
            "text/plain": [
              "'senha dificil de lembrar'"
            ],
            "application/vnd.google.colaboratory.intrinsic+json": {
              "type": "string"
            }
          },
          "metadata": {},
          "execution_count": 53
        }
      ]
    },
    {
      "cell_type": "code",
      "source": [
        "umask64('w53DmsOgw4nDj8KEw43Dk8Obw5vDhMOXw5DCicOOw5rCksONw5PDkcOLw5zDlsOk')"
      ],
      "metadata": {
        "colab": {
          "base_uri": "https://localhost:8080/",
          "height": 52
        },
        "id": "Tec8pJaf6wF1",
        "outputId": "fe8fa5b6-cc21-4315-9ebd-6f8315f58c1c"
      },
      "execution_count": null,
      "outputs": [
        {
          "name": "stdout",
          "output_type": "stream",
          "text": [
            "Password: ··········\n"
          ]
        },
        {
          "output_type": "execute_result",
          "data": {
            "text/plain": [
              "'senha dificil de lembrar'"
            ],
            "application/vnd.google.colaboratory.intrinsic+json": {
              "type": "string"
            }
          },
          "metadata": {},
          "execution_count": 51
        }
      ]
    },
    {
      "cell_type": "code",
      "source": [],
      "metadata": {
        "id": "Fu7cXxex9qdU"
      },
      "execution_count": null,
      "outputs": []
    }
  ]
}