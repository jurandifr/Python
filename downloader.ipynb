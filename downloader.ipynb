{
 "cells": [
  {
   "cell_type": "code",
   "execution_count": null,
   "metadata": {},
   "outputs": [],
   "source": [
    "import requests\n",
    "import re\n",
    "from concurrent.futures import ThreadPoolExecutor, as_completed\n",
    "from tqdm import tqdm"
   ]
  },
  {
   "cell_type": "code",
   "execution_count": null,
   "metadata": {},
   "outputs": [],
   "source": [
    "# função para aplicar o paralelismo\n",
    "def mapp(fn,data, workers=8):\n",
    "  tasks=[]\n",
    "  with ThreadPoolExecutor(max_workers=workers) as tex:\n",
    "    tasks=[tex.submit(fn,i) for i in data]\n",
    "  for task in as_completed(tasks):\n",
    "    print(task.result())"
   ]
  },
  {
   "cell_type": "code",
   "execution_count": null,
   "metadata": {},
   "outputs": [],
   "source": [
    "def downloader(url):\n",
    "    dirpath=\"downloads/\"\n",
    "    try:\n",
    "        r = requests.get(url, stream=True)\n",
    "        total = int(r.headers.get('content-length', 0))\n",
    "        if \"Content-Disposition\" in r.headers.keys():\n",
    "            fname = re.findall(\"filename=(.+)\", r.headers[\"Content-Disposition\"])[0]\n",
    "        else:\n",
    "            fname = url.split(\"/\")[-1]\n",
    "        with open(dirpath+fname, 'wb') as file, tqdm(desc=fname, total=total, unit='iB', unit_scale=True, unit_divisor=1024) as bar:\n",
    "            for data in r.iter_content(chunk_size=1024):\n",
    "                size = file.write(data)\n",
    "                bar.update(size)\n",
    "    finally:\n",
    "        return str(r.status_code) + \" \" + url"
   ]
  },
  {
   "cell_type": "code",
   "execution_count": null,
   "metadata": {},
   "outputs": [],
   "source": [
    "# mapp(downloader,urllist)"
   ]
  }
 ],
 "metadata": {
  "kernelspec": {
   "display_name": "Python 3.10.4 64-bit",
   "language": "python",
   "name": "python3"
  },
  "language_info": {
   "name": "python",
   "version": "3.10.4"
  },
  "orig_nbformat": 4,
  "vscode": {
   "interpreter": {
    "hash": "3ad933181bd8a04b432d3370b9dc3b0662ad032c4dfaa4e4f1596c548f763858"
   }
  }
 },
 "nbformat": 4,
 "nbformat_minor": 2
}
